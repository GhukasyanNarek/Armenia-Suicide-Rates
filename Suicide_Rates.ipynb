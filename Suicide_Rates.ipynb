{
 "cells": [
  {
   "cell_type": "markdown",
   "metadata": {},
   "source": [
    "## Before starting, kindly note that Suicide rates are not always statistically completed, and [it is difficult to get any tangible results](https://www1.health.gov.au/internet/publications/publishing.nsf/Content/suicide-prevention-activities-evaluation~findings-effectiveness~challenges-of-measuring) using data from open sources. So, this is just a partial overview of the Suicide measurements in Armenia from 1990 to 2016 "
   ]
  },
  {
   "cell_type": "code",
   "execution_count": 160,
   "metadata": {},
   "outputs": [],
   "source": [
    "# importing necessary libraries\n",
    "import numpy as np\n",
    "import pandas as pd\n",
    "import seaborn as sns\n",
    "import matplotlib.pyplot as plt"
   ]
  },
  {
   "cell_type": "code",
   "execution_count": 161,
   "metadata": {},
   "outputs": [],
   "source": [
    "# importing the dataset\n",
    "df = pd.read_csv(\"C:/Users/narek/Documents/Databases/master.csv\")"
   ]
  },
  {
   "cell_type": "code",
   "execution_count": 162,
   "metadata": {},
   "outputs": [
    {
     "data": {
      "text/html": [
       "<div>\n",
       "<style scoped>\n",
       "    .dataframe tbody tr th:only-of-type {\n",
       "        vertical-align: middle;\n",
       "    }\n",
       "\n",
       "    .dataframe tbody tr th {\n",
       "        vertical-align: top;\n",
       "    }\n",
       "\n",
       "    .dataframe thead th {\n",
       "        text-align: right;\n",
       "    }\n",
       "</style>\n",
       "<table border=\"1\" class=\"dataframe\">\n",
       "  <thead>\n",
       "    <tr style=\"text-align: right;\">\n",
       "      <th></th>\n",
       "      <th>country</th>\n",
       "      <th>year</th>\n",
       "      <th>sex</th>\n",
       "      <th>age</th>\n",
       "      <th>suicides_no</th>\n",
       "      <th>population</th>\n",
       "      <th>suicides/100k pop</th>\n",
       "      <th>country-year</th>\n",
       "      <th>HDI for year</th>\n",
       "      <th>gdp_for_year ($)</th>\n",
       "      <th>gdp_per_capita ($)</th>\n",
       "      <th>generation</th>\n",
       "    </tr>\n",
       "  </thead>\n",
       "  <tbody>\n",
       "    <tr>\n",
       "      <th>0</th>\n",
       "      <td>Albania</td>\n",
       "      <td>1987</td>\n",
       "      <td>male</td>\n",
       "      <td>15-24 years</td>\n",
       "      <td>21</td>\n",
       "      <td>312900</td>\n",
       "      <td>6.71</td>\n",
       "      <td>Albania1987</td>\n",
       "      <td>NaN</td>\n",
       "      <td>2,156,624,900</td>\n",
       "      <td>796</td>\n",
       "      <td>Generation X</td>\n",
       "    </tr>\n",
       "    <tr>\n",
       "      <th>1</th>\n",
       "      <td>Albania</td>\n",
       "      <td>1987</td>\n",
       "      <td>male</td>\n",
       "      <td>35-54 years</td>\n",
       "      <td>16</td>\n",
       "      <td>308000</td>\n",
       "      <td>5.19</td>\n",
       "      <td>Albania1987</td>\n",
       "      <td>NaN</td>\n",
       "      <td>2,156,624,900</td>\n",
       "      <td>796</td>\n",
       "      <td>Silent</td>\n",
       "    </tr>\n",
       "    <tr>\n",
       "      <th>2</th>\n",
       "      <td>Albania</td>\n",
       "      <td>1987</td>\n",
       "      <td>female</td>\n",
       "      <td>15-24 years</td>\n",
       "      <td>14</td>\n",
       "      <td>289700</td>\n",
       "      <td>4.83</td>\n",
       "      <td>Albania1987</td>\n",
       "      <td>NaN</td>\n",
       "      <td>2,156,624,900</td>\n",
       "      <td>796</td>\n",
       "      <td>Generation X</td>\n",
       "    </tr>\n",
       "    <tr>\n",
       "      <th>3</th>\n",
       "      <td>Albania</td>\n",
       "      <td>1987</td>\n",
       "      <td>male</td>\n",
       "      <td>75+ years</td>\n",
       "      <td>1</td>\n",
       "      <td>21800</td>\n",
       "      <td>4.59</td>\n",
       "      <td>Albania1987</td>\n",
       "      <td>NaN</td>\n",
       "      <td>2,156,624,900</td>\n",
       "      <td>796</td>\n",
       "      <td>G.I. Generation</td>\n",
       "    </tr>\n",
       "    <tr>\n",
       "      <th>4</th>\n",
       "      <td>Albania</td>\n",
       "      <td>1987</td>\n",
       "      <td>male</td>\n",
       "      <td>25-34 years</td>\n",
       "      <td>9</td>\n",
       "      <td>274300</td>\n",
       "      <td>3.28</td>\n",
       "      <td>Albania1987</td>\n",
       "      <td>NaN</td>\n",
       "      <td>2,156,624,900</td>\n",
       "      <td>796</td>\n",
       "      <td>Boomers</td>\n",
       "    </tr>\n",
       "  </tbody>\n",
       "</table>\n",
       "</div>"
      ],
      "text/plain": [
       "   country  year     sex          age  suicides_no  population  \\\n",
       "0  Albania  1987    male  15-24 years           21      312900   \n",
       "1  Albania  1987    male  35-54 years           16      308000   \n",
       "2  Albania  1987  female  15-24 years           14      289700   \n",
       "3  Albania  1987    male    75+ years            1       21800   \n",
       "4  Albania  1987    male  25-34 years            9      274300   \n",
       "\n",
       "   suicides/100k pop country-year  HDI for year  gdp_for_year ($)   \\\n",
       "0               6.71  Albania1987           NaN      2,156,624,900   \n",
       "1               5.19  Albania1987           NaN      2,156,624,900   \n",
       "2               4.83  Albania1987           NaN      2,156,624,900   \n",
       "3               4.59  Albania1987           NaN      2,156,624,900   \n",
       "4               3.28  Albania1987           NaN      2,156,624,900   \n",
       "\n",
       "   gdp_per_capita ($)       generation  \n",
       "0                 796     Generation X  \n",
       "1                 796           Silent  \n",
       "2                 796     Generation X  \n",
       "3                 796  G.I. Generation  \n",
       "4                 796          Boomers  "
      ]
     },
     "execution_count": 162,
     "metadata": {},
     "output_type": "execute_result"
    }
   ],
   "source": [
    "df.head()"
   ]
  },
  {
   "cell_type": "markdown",
   "metadata": {},
   "source": [
    "# Understanding our data's variables"
   ]
  },
  {
   "cell_type": "markdown",
   "metadata": {},
   "source": [
    "country = country's name\n",
    "year = year\n",
    "sex = male or female\n",
    "age = age\n",
    "suicides_no = number of all suicides given the year and age\n",
    "population = country's population\n",
    "suicides/100k pop = age-standardized suicide rates per 100 000 country's standard population\n",
    "country-year = Don't need this variable\n",
    "HDI for year = [Human Development Index](https://www.who.int/data/nutrition/nlis/info/human-development-index#:~:text=The%20HDI%20is%20a%20summary%20composite%20measure%20of%20a%20country's,knowledge%20and%20standard%20of%20living.)\n",
    "gdp_for_year ($) = \n",
    "gdp_per_capita ($)\n",
    "generation"
   ]
  },
  {
   "cell_type": "code",
   "execution_count": 163,
   "metadata": {},
   "outputs": [],
   "source": [
    "df_arm = df[df['country'] == 'Armenia'] # finding Armenia's data"
   ]
  },
  {
   "cell_type": "code",
   "execution_count": 164,
   "metadata": {},
   "outputs": [],
   "source": [
    "df_arm_c = df_arm.copy() # Creating copy of our data, incase something goes wrong "
   ]
  },
  {
   "cell_type": "markdown",
   "metadata": {},
   "source": [
    "# Some info about our data"
   ]
  },
  {
   "cell_type": "code",
   "execution_count": 165,
   "metadata": {},
   "outputs": [
    {
     "name": "stdout",
     "output_type": "stream",
     "text": [
      "<class 'pandas.core.frame.DataFrame'>\n",
      "Int64Index: 298 entries, 960 to 1257\n",
      "Data columns (total 12 columns):\n",
      " #   Column              Non-Null Count  Dtype  \n",
      "---  ------              --------------  -----  \n",
      " 0   country             298 non-null    object \n",
      " 1   year                298 non-null    int64  \n",
      " 2   sex                 298 non-null    object \n",
      " 3   age                 298 non-null    object \n",
      " 4   suicides_no         298 non-null    int64  \n",
      " 5   population          298 non-null    int64  \n",
      " 6   suicides/100k pop   298 non-null    float64\n",
      " 7   country-year        298 non-null    object \n",
      " 8   HDI for year        96 non-null     float64\n",
      " 9    gdp_for_year ($)   298 non-null    object \n",
      " 10  gdp_per_capita ($)  298 non-null    int64  \n",
      " 11  generation          298 non-null    object \n",
      "dtypes: float64(2), int64(4), object(6)\n",
      "memory usage: 30.3+ KB\n"
     ]
    }
   ],
   "source": [
    "df_arm_c.info()"
   ]
  },
  {
   "cell_type": "code",
   "execution_count": 166,
   "metadata": {},
   "outputs": [
    {
     "data": {
      "text/html": [
       "<div>\n",
       "<style scoped>\n",
       "    .dataframe tbody tr th:only-of-type {\n",
       "        vertical-align: middle;\n",
       "    }\n",
       "\n",
       "    .dataframe tbody tr th {\n",
       "        vertical-align: top;\n",
       "    }\n",
       "\n",
       "    .dataframe thead th {\n",
       "        text-align: right;\n",
       "    }\n",
       "</style>\n",
       "<table border=\"1\" class=\"dataframe\">\n",
       "  <thead>\n",
       "    <tr style=\"text-align: right;\">\n",
       "      <th></th>\n",
       "      <th>country</th>\n",
       "      <th>year</th>\n",
       "      <th>sex</th>\n",
       "      <th>age</th>\n",
       "      <th>suicides_no</th>\n",
       "      <th>population</th>\n",
       "      <th>suicides/100k pop</th>\n",
       "      <th>country-year</th>\n",
       "      <th>HDI for year</th>\n",
       "      <th>gdp_for_year ($)</th>\n",
       "      <th>gdp_per_capita ($)</th>\n",
       "      <th>generation</th>\n",
       "    </tr>\n",
       "  </thead>\n",
       "  <tbody>\n",
       "    <tr>\n",
       "      <th>960</th>\n",
       "      <td>Armenia</td>\n",
       "      <td>1990</td>\n",
       "      <td>male</td>\n",
       "      <td>35-54 years</td>\n",
       "      <td>25</td>\n",
       "      <td>332700</td>\n",
       "      <td>7.51</td>\n",
       "      <td>Armenia1990</td>\n",
       "      <td>0.632</td>\n",
       "      <td>2,256,838,858</td>\n",
       "      <td>756</td>\n",
       "      <td>Silent</td>\n",
       "    </tr>\n",
       "    <tr>\n",
       "      <th>961</th>\n",
       "      <td>Armenia</td>\n",
       "      <td>1990</td>\n",
       "      <td>male</td>\n",
       "      <td>75+ years</td>\n",
       "      <td>2</td>\n",
       "      <td>26900</td>\n",
       "      <td>7.43</td>\n",
       "      <td>Armenia1990</td>\n",
       "      <td>0.632</td>\n",
       "      <td>2,256,838,858</td>\n",
       "      <td>756</td>\n",
       "      <td>G.I. Generation</td>\n",
       "    </tr>\n",
       "    <tr>\n",
       "      <th>962</th>\n",
       "      <td>Armenia</td>\n",
       "      <td>1990</td>\n",
       "      <td>male</td>\n",
       "      <td>55-74 years</td>\n",
       "      <td>11</td>\n",
       "      <td>183800</td>\n",
       "      <td>5.98</td>\n",
       "      <td>Armenia1990</td>\n",
       "      <td>0.632</td>\n",
       "      <td>2,256,838,858</td>\n",
       "      <td>756</td>\n",
       "      <td>G.I. Generation</td>\n",
       "    </tr>\n",
       "    <tr>\n",
       "      <th>963</th>\n",
       "      <td>Armenia</td>\n",
       "      <td>1990</td>\n",
       "      <td>male</td>\n",
       "      <td>25-34 years</td>\n",
       "      <td>16</td>\n",
       "      <td>307100</td>\n",
       "      <td>5.21</td>\n",
       "      <td>Armenia1990</td>\n",
       "      <td>0.632</td>\n",
       "      <td>2,256,838,858</td>\n",
       "      <td>756</td>\n",
       "      <td>Boomers</td>\n",
       "    </tr>\n",
       "    <tr>\n",
       "      <th>964</th>\n",
       "      <td>Armenia</td>\n",
       "      <td>1990</td>\n",
       "      <td>female</td>\n",
       "      <td>35-54 years</td>\n",
       "      <td>15</td>\n",
       "      <td>358000</td>\n",
       "      <td>4.19</td>\n",
       "      <td>Armenia1990</td>\n",
       "      <td>0.632</td>\n",
       "      <td>2,256,838,858</td>\n",
       "      <td>756</td>\n",
       "      <td>Silent</td>\n",
       "    </tr>\n",
       "    <tr>\n",
       "      <th>...</th>\n",
       "      <td>...</td>\n",
       "      <td>...</td>\n",
       "      <td>...</td>\n",
       "      <td>...</td>\n",
       "      <td>...</td>\n",
       "      <td>...</td>\n",
       "      <td>...</td>\n",
       "      <td>...</td>\n",
       "      <td>...</td>\n",
       "      <td>...</td>\n",
       "      <td>...</td>\n",
       "      <td>...</td>\n",
       "    </tr>\n",
       "    <tr>\n",
       "      <th>1253</th>\n",
       "      <td>Armenia</td>\n",
       "      <td>2016</td>\n",
       "      <td>female</td>\n",
       "      <td>55-74 years</td>\n",
       "      <td>6</td>\n",
       "      <td>308349</td>\n",
       "      <td>1.95</td>\n",
       "      <td>Armenia2016</td>\n",
       "      <td>NaN</td>\n",
       "      <td>10,546,135,160</td>\n",
       "      <td>3788</td>\n",
       "      <td>Boomers</td>\n",
       "    </tr>\n",
       "    <tr>\n",
       "      <th>1254</th>\n",
       "      <td>Armenia</td>\n",
       "      <td>2016</td>\n",
       "      <td>male</td>\n",
       "      <td>25-34 years</td>\n",
       "      <td>4</td>\n",
       "      <td>255665</td>\n",
       "      <td>1.56</td>\n",
       "      <td>Armenia2016</td>\n",
       "      <td>NaN</td>\n",
       "      <td>10,546,135,160</td>\n",
       "      <td>3788</td>\n",
       "      <td>Millenials</td>\n",
       "    </tr>\n",
       "    <tr>\n",
       "      <th>1255</th>\n",
       "      <td>Armenia</td>\n",
       "      <td>2016</td>\n",
       "      <td>female</td>\n",
       "      <td>35-54 years</td>\n",
       "      <td>3</td>\n",
       "      <td>408109</td>\n",
       "      <td>0.74</td>\n",
       "      <td>Armenia2016</td>\n",
       "      <td>NaN</td>\n",
       "      <td>10,546,135,160</td>\n",
       "      <td>3788</td>\n",
       "      <td>Generation X</td>\n",
       "    </tr>\n",
       "    <tr>\n",
       "      <th>1256</th>\n",
       "      <td>Armenia</td>\n",
       "      <td>2016</td>\n",
       "      <td>female</td>\n",
       "      <td>25-34 years</td>\n",
       "      <td>2</td>\n",
       "      <td>277452</td>\n",
       "      <td>0.72</td>\n",
       "      <td>Armenia2016</td>\n",
       "      <td>NaN</td>\n",
       "      <td>10,546,135,160</td>\n",
       "      <td>3788</td>\n",
       "      <td>Millenials</td>\n",
       "    </tr>\n",
       "    <tr>\n",
       "      <th>1257</th>\n",
       "      <td>Armenia</td>\n",
       "      <td>2016</td>\n",
       "      <td>female</td>\n",
       "      <td>15-24 years</td>\n",
       "      <td>1</td>\n",
       "      <td>195422</td>\n",
       "      <td>0.51</td>\n",
       "      <td>Armenia2016</td>\n",
       "      <td>NaN</td>\n",
       "      <td>10,546,135,160</td>\n",
       "      <td>3788</td>\n",
       "      <td>Millenials</td>\n",
       "    </tr>\n",
       "  </tbody>\n",
       "</table>\n",
       "<p>298 rows × 12 columns</p>\n",
       "</div>"
      ],
      "text/plain": [
       "      country  year     sex          age  suicides_no  population  \\\n",
       "960   Armenia  1990    male  35-54 years           25      332700   \n",
       "961   Armenia  1990    male    75+ years            2       26900   \n",
       "962   Armenia  1990    male  55-74 years           11      183800   \n",
       "963   Armenia  1990    male  25-34 years           16      307100   \n",
       "964   Armenia  1990  female  35-54 years           15      358000   \n",
       "...       ...   ...     ...          ...          ...         ...   \n",
       "1253  Armenia  2016  female  55-74 years            6      308349   \n",
       "1254  Armenia  2016    male  25-34 years            4      255665   \n",
       "1255  Armenia  2016  female  35-54 years            3      408109   \n",
       "1256  Armenia  2016  female  25-34 years            2      277452   \n",
       "1257  Armenia  2016  female  15-24 years            1      195422   \n",
       "\n",
       "      suicides/100k pop country-year  HDI for year  gdp_for_year ($)   \\\n",
       "960                7.51  Armenia1990         0.632      2,256,838,858   \n",
       "961                7.43  Armenia1990         0.632      2,256,838,858   \n",
       "962                5.98  Armenia1990         0.632      2,256,838,858   \n",
       "963                5.21  Armenia1990         0.632      2,256,838,858   \n",
       "964                4.19  Armenia1990         0.632      2,256,838,858   \n",
       "...                 ...          ...           ...                ...   \n",
       "1253               1.95  Armenia2016           NaN     10,546,135,160   \n",
       "1254               1.56  Armenia2016           NaN     10,546,135,160   \n",
       "1255               0.74  Armenia2016           NaN     10,546,135,160   \n",
       "1256               0.72  Armenia2016           NaN     10,546,135,160   \n",
       "1257               0.51  Armenia2016           NaN     10,546,135,160   \n",
       "\n",
       "      gdp_per_capita ($)       generation  \n",
       "960                  756           Silent  \n",
       "961                  756  G.I. Generation  \n",
       "962                  756  G.I. Generation  \n",
       "963                  756          Boomers  \n",
       "964                  756           Silent  \n",
       "...                  ...              ...  \n",
       "1253                3788          Boomers  \n",
       "1254                3788       Millenials  \n",
       "1255                3788     Generation X  \n",
       "1256                3788       Millenials  \n",
       "1257                3788       Millenials  \n",
       "\n",
       "[298 rows x 12 columns]"
      ]
     },
     "execution_count": 166,
     "metadata": {},
     "output_type": "execute_result"
    }
   ],
   "source": [
    "df_arm_c"
   ]
  },
  {
   "cell_type": "markdown",
   "metadata": {},
   "source": [
    "##### we have 298 rows and 12 columns. Let's look at missing values"
   ]
  },
  {
   "cell_type": "code",
   "execution_count": 167,
   "metadata": {},
   "outputs": [
    {
     "data": {
      "text/plain": [
       "country                 0\n",
       "year                    0\n",
       "sex                     0\n",
       "age                     0\n",
       "suicides_no             0\n",
       "population              0\n",
       "suicides/100k pop       0\n",
       "country-year            0\n",
       "HDI for year          202\n",
       " gdp_for_year ($)       0\n",
       "gdp_per_capita ($)      0\n",
       "generation              0\n",
       "dtype: int64"
      ]
     },
     "execution_count": 167,
     "metadata": {},
     "output_type": "execute_result"
    }
   ],
   "source": [
    "df_arm_c.isna().sum()"
   ]
  },
  {
   "cell_type": "markdown",
   "metadata": {},
   "source": [
    "##### \"HDI for year\" column has 202 NaN values (67% has no value) so let's delete them for future convenience "
   ]
  },
  {
   "cell_type": "code",
   "execution_count": 168,
   "metadata": {},
   "outputs": [],
   "source": [
    "df_arm_c.dropna(axis=1, inplace=True)"
   ]
  },
  {
   "cell_type": "code",
   "execution_count": 179,
   "metadata": {},
   "outputs": [],
   "source": [
    "df_arm_c.drop(columns='country-year', inplace=True)"
   ]
  },
  {
   "cell_type": "code",
   "execution_count": 238,
   "metadata": {},
   "outputs": [
    {
     "data": {
      "text/plain": [
       "Index(['country', 'year', 'sex', 'age', 'suicides_no', 'population',\n",
       "       'suicides/100k pop', 'gdp_for_year ($)', 'gdp_per_capita ($)',\n",
       "       'generation'],\n",
       "      dtype='object')"
      ]
     },
     "execution_count": 238,
     "metadata": {},
     "output_type": "execute_result"
    }
   ],
   "source": [
    "df_arm_c.columns # wee see white space in columns ' gdp_for_year ($) ', and 'gdp_per_capita ($)',\n",
    "                 # so I will also delete that space for future convenience"
   ]
  },
  {
   "cell_type": "code",
   "execution_count": 181,
   "metadata": {},
   "outputs": [],
   "source": [
    "df_arm_c.columns = df_arm_c.columns.str.strip()"
   ]
  },
  {
   "cell_type": "code",
   "execution_count": 182,
   "metadata": {},
   "outputs": [
    {
     "data": {
      "text/html": [
       "<div>\n",
       "<style scoped>\n",
       "    .dataframe tbody tr th:only-of-type {\n",
       "        vertical-align: middle;\n",
       "    }\n",
       "\n",
       "    .dataframe tbody tr th {\n",
       "        vertical-align: top;\n",
       "    }\n",
       "\n",
       "    .dataframe thead th {\n",
       "        text-align: right;\n",
       "    }\n",
       "</style>\n",
       "<table border=\"1\" class=\"dataframe\">\n",
       "  <thead>\n",
       "    <tr style=\"text-align: right;\">\n",
       "      <th></th>\n",
       "      <th>country</th>\n",
       "      <th>year</th>\n",
       "      <th>sex</th>\n",
       "      <th>age</th>\n",
       "      <th>suicides_no</th>\n",
       "      <th>population</th>\n",
       "      <th>suicides/100k pop</th>\n",
       "      <th>gdp_for_year ($)</th>\n",
       "      <th>gdp_per_capita ($)</th>\n",
       "      <th>generation</th>\n",
       "    </tr>\n",
       "  </thead>\n",
       "  <tbody>\n",
       "    <tr>\n",
       "      <th>960</th>\n",
       "      <td>Armenia</td>\n",
       "      <td>1990</td>\n",
       "      <td>male</td>\n",
       "      <td>35-54 years</td>\n",
       "      <td>25</td>\n",
       "      <td>332700</td>\n",
       "      <td>7.51</td>\n",
       "      <td>2,256,838,858</td>\n",
       "      <td>756</td>\n",
       "      <td>Silent</td>\n",
       "    </tr>\n",
       "    <tr>\n",
       "      <th>961</th>\n",
       "      <td>Armenia</td>\n",
       "      <td>1990</td>\n",
       "      <td>male</td>\n",
       "      <td>75+ years</td>\n",
       "      <td>2</td>\n",
       "      <td>26900</td>\n",
       "      <td>7.43</td>\n",
       "      <td>2,256,838,858</td>\n",
       "      <td>756</td>\n",
       "      <td>G.I. Generation</td>\n",
       "    </tr>\n",
       "    <tr>\n",
       "      <th>962</th>\n",
       "      <td>Armenia</td>\n",
       "      <td>1990</td>\n",
       "      <td>male</td>\n",
       "      <td>55-74 years</td>\n",
       "      <td>11</td>\n",
       "      <td>183800</td>\n",
       "      <td>5.98</td>\n",
       "      <td>2,256,838,858</td>\n",
       "      <td>756</td>\n",
       "      <td>G.I. Generation</td>\n",
       "    </tr>\n",
       "    <tr>\n",
       "      <th>963</th>\n",
       "      <td>Armenia</td>\n",
       "      <td>1990</td>\n",
       "      <td>male</td>\n",
       "      <td>25-34 years</td>\n",
       "      <td>16</td>\n",
       "      <td>307100</td>\n",
       "      <td>5.21</td>\n",
       "      <td>2,256,838,858</td>\n",
       "      <td>756</td>\n",
       "      <td>Boomers</td>\n",
       "    </tr>\n",
       "    <tr>\n",
       "      <th>964</th>\n",
       "      <td>Armenia</td>\n",
       "      <td>1990</td>\n",
       "      <td>female</td>\n",
       "      <td>35-54 years</td>\n",
       "      <td>15</td>\n",
       "      <td>358000</td>\n",
       "      <td>4.19</td>\n",
       "      <td>2,256,838,858</td>\n",
       "      <td>756</td>\n",
       "      <td>Silent</td>\n",
       "    </tr>\n",
       "    <tr>\n",
       "      <th>...</th>\n",
       "      <td>...</td>\n",
       "      <td>...</td>\n",
       "      <td>...</td>\n",
       "      <td>...</td>\n",
       "      <td>...</td>\n",
       "      <td>...</td>\n",
       "      <td>...</td>\n",
       "      <td>...</td>\n",
       "      <td>...</td>\n",
       "      <td>...</td>\n",
       "    </tr>\n",
       "    <tr>\n",
       "      <th>1253</th>\n",
       "      <td>Armenia</td>\n",
       "      <td>2016</td>\n",
       "      <td>female</td>\n",
       "      <td>55-74 years</td>\n",
       "      <td>6</td>\n",
       "      <td>308349</td>\n",
       "      <td>1.95</td>\n",
       "      <td>10,546,135,160</td>\n",
       "      <td>3788</td>\n",
       "      <td>Boomers</td>\n",
       "    </tr>\n",
       "    <tr>\n",
       "      <th>1254</th>\n",
       "      <td>Armenia</td>\n",
       "      <td>2016</td>\n",
       "      <td>male</td>\n",
       "      <td>25-34 years</td>\n",
       "      <td>4</td>\n",
       "      <td>255665</td>\n",
       "      <td>1.56</td>\n",
       "      <td>10,546,135,160</td>\n",
       "      <td>3788</td>\n",
       "      <td>Millenials</td>\n",
       "    </tr>\n",
       "    <tr>\n",
       "      <th>1255</th>\n",
       "      <td>Armenia</td>\n",
       "      <td>2016</td>\n",
       "      <td>female</td>\n",
       "      <td>35-54 years</td>\n",
       "      <td>3</td>\n",
       "      <td>408109</td>\n",
       "      <td>0.74</td>\n",
       "      <td>10,546,135,160</td>\n",
       "      <td>3788</td>\n",
       "      <td>Generation X</td>\n",
       "    </tr>\n",
       "    <tr>\n",
       "      <th>1256</th>\n",
       "      <td>Armenia</td>\n",
       "      <td>2016</td>\n",
       "      <td>female</td>\n",
       "      <td>25-34 years</td>\n",
       "      <td>2</td>\n",
       "      <td>277452</td>\n",
       "      <td>0.72</td>\n",
       "      <td>10,546,135,160</td>\n",
       "      <td>3788</td>\n",
       "      <td>Millenials</td>\n",
       "    </tr>\n",
       "    <tr>\n",
       "      <th>1257</th>\n",
       "      <td>Armenia</td>\n",
       "      <td>2016</td>\n",
       "      <td>female</td>\n",
       "      <td>15-24 years</td>\n",
       "      <td>1</td>\n",
       "      <td>195422</td>\n",
       "      <td>0.51</td>\n",
       "      <td>10,546,135,160</td>\n",
       "      <td>3788</td>\n",
       "      <td>Millenials</td>\n",
       "    </tr>\n",
       "  </tbody>\n",
       "</table>\n",
       "<p>298 rows × 10 columns</p>\n",
       "</div>"
      ],
      "text/plain": [
       "      country  year     sex          age  suicides_no  population  \\\n",
       "960   Armenia  1990    male  35-54 years           25      332700   \n",
       "961   Armenia  1990    male    75+ years            2       26900   \n",
       "962   Armenia  1990    male  55-74 years           11      183800   \n",
       "963   Armenia  1990    male  25-34 years           16      307100   \n",
       "964   Armenia  1990  female  35-54 years           15      358000   \n",
       "...       ...   ...     ...          ...          ...         ...   \n",
       "1253  Armenia  2016  female  55-74 years            6      308349   \n",
       "1254  Armenia  2016    male  25-34 years            4      255665   \n",
       "1255  Armenia  2016  female  35-54 years            3      408109   \n",
       "1256  Armenia  2016  female  25-34 years            2      277452   \n",
       "1257  Armenia  2016  female  15-24 years            1      195422   \n",
       "\n",
       "      suicides/100k pop gdp_for_year ($)  gdp_per_capita ($)       generation  \n",
       "960                7.51    2,256,838,858                 756           Silent  \n",
       "961                7.43    2,256,838,858                 756  G.I. Generation  \n",
       "962                5.98    2,256,838,858                 756  G.I. Generation  \n",
       "963                5.21    2,256,838,858                 756          Boomers  \n",
       "964                4.19    2,256,838,858                 756           Silent  \n",
       "...                 ...              ...                 ...              ...  \n",
       "1253               1.95   10,546,135,160                3788          Boomers  \n",
       "1254               1.56   10,546,135,160                3788       Millenials  \n",
       "1255               0.74   10,546,135,160                3788     Generation X  \n",
       "1256               0.72   10,546,135,160                3788       Millenials  \n",
       "1257               0.51   10,546,135,160                3788       Millenials  \n",
       "\n",
       "[298 rows x 10 columns]"
      ]
     },
     "execution_count": 182,
     "metadata": {},
     "output_type": "execute_result"
    }
   ],
   "source": [
    "df_arm_c"
   ]
  },
  {
   "cell_type": "markdown",
   "metadata": {},
   "source": [
    "#### After some cleaning, let's do data exploration and visualisation \n",
    "#### First, we will find the highest number of suicides based on year"
   ]
  },
  {
   "cell_type": "code",
   "execution_count": 183,
   "metadata": {},
   "outputs": [
    {
     "data": {
      "image/png": "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\n",
      "text/plain": [
       "<Figure size 1152x648 with 1 Axes>"
      ]
     },
     "metadata": {
      "needs_background": "light"
     },
     "output_type": "display_data"
    }
   ],
   "source": [
    "plt.figure(figsize=(16,9))\n",
    "df_arm_c.groupby('year')['suicides_no'].mean().plot();"
   ]
  },
  {
   "cell_type": "markdown",
   "metadata": {},
   "source": [
    "According to this graph, the number of registered suicides were extremely high in 1993 - 1995 (Post-soviet Crisis, First Kharabakh War) and peeked in 1995"
   ]
  },
  {
   "cell_type": "markdown",
   "metadata": {},
   "source": [
    "# Now, let's see what generation is more prone to suicide"
   ]
  },
  {
   "cell_type": "code",
   "execution_count": 184,
   "metadata": {},
   "outputs": [
    {
     "data": {
      "image/png": "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\n",
      "text/plain": [
       "<Figure size 1152x648 with 1 Axes>"
      ]
     },
     "metadata": {
      "needs_background": "light"
     },
     "output_type": "display_data"
    }
   ],
   "source": [
    "plt.figure(figsize=(16,9))\n",
    "gen_bar = sns.barplot(x='sex', y='suicides/100k pop', hue='generation', data=df_arm_c)"
   ]
  },
  {
   "cell_type": "markdown",
   "metadata": {},
   "source": [
    "As we can see, G.I. Generation (from 1910 to 1924) and Silent Generation (from 1925 to 1945) are more prone to suicide, regardless of sex"
   ]
  },
  {
   "cell_type": "markdown",
   "metadata": {},
   "source": [
    "# Now, let's see what age is more prone to suicide"
   ]
  },
  {
   "cell_type": "code",
   "execution_count": 185,
   "metadata": {},
   "outputs": [
    {
     "data": {
      "image/png": "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\n",
      "text/plain": [
       "<Figure size 1080x720 with 1 Axes>"
      ]
     },
     "metadata": {
      "needs_background": "light"
     },
     "output_type": "display_data"
    }
   ],
   "source": [
    "plt.figure(figsize=(15,10))\n",
    "age_plot = sns.barplot(x='sex', y='suicides/100k pop', hue='age', data=df_arm_c)"
   ]
  },
  {
   "cell_type": "markdown",
   "metadata": {},
   "source": [
    "As the graph shows, highest suicides happened in 75+ age range as was partially suggested with above statement"
   ]
  },
  {
   "cell_type": "code",
   "execution_count": 190,
   "metadata": {},
   "outputs": [
    {
     "data": {
      "text/html": [
       "<div>\n",
       "<style scoped>\n",
       "    .dataframe tbody tr th:only-of-type {\n",
       "        vertical-align: middle;\n",
       "    }\n",
       "\n",
       "    .dataframe tbody tr th {\n",
       "        vertical-align: top;\n",
       "    }\n",
       "\n",
       "    .dataframe thead th {\n",
       "        text-align: right;\n",
       "    }\n",
       "</style>\n",
       "<table border=\"1\" class=\"dataframe\">\n",
       "  <thead>\n",
       "    <tr style=\"text-align: right;\">\n",
       "      <th></th>\n",
       "      <th>country</th>\n",
       "      <th>year</th>\n",
       "      <th>sex</th>\n",
       "      <th>age</th>\n",
       "      <th>suicides_no</th>\n",
       "      <th>population</th>\n",
       "      <th>suicides/100k pop</th>\n",
       "      <th>gdp_for_year ($)</th>\n",
       "      <th>gdp_per_capita ($)</th>\n",
       "      <th>generation</th>\n",
       "    </tr>\n",
       "  </thead>\n",
       "  <tbody>\n",
       "    <tr>\n",
       "      <th>960</th>\n",
       "      <td>Armenia</td>\n",
       "      <td>1990</td>\n",
       "      <td>male</td>\n",
       "      <td>35-54 years</td>\n",
       "      <td>25</td>\n",
       "      <td>332700</td>\n",
       "      <td>7.51</td>\n",
       "      <td>2256838858</td>\n",
       "      <td>756</td>\n",
       "      <td>Silent</td>\n",
       "    </tr>\n",
       "    <tr>\n",
       "      <th>961</th>\n",
       "      <td>Armenia</td>\n",
       "      <td>1990</td>\n",
       "      <td>male</td>\n",
       "      <td>75+ years</td>\n",
       "      <td>2</td>\n",
       "      <td>26900</td>\n",
       "      <td>7.43</td>\n",
       "      <td>2256838858</td>\n",
       "      <td>756</td>\n",
       "      <td>G.I. Generation</td>\n",
       "    </tr>\n",
       "    <tr>\n",
       "      <th>962</th>\n",
       "      <td>Armenia</td>\n",
       "      <td>1990</td>\n",
       "      <td>male</td>\n",
       "      <td>55-74 years</td>\n",
       "      <td>11</td>\n",
       "      <td>183800</td>\n",
       "      <td>5.98</td>\n",
       "      <td>2256838858</td>\n",
       "      <td>756</td>\n",
       "      <td>G.I. Generation</td>\n",
       "    </tr>\n",
       "    <tr>\n",
       "      <th>963</th>\n",
       "      <td>Armenia</td>\n",
       "      <td>1990</td>\n",
       "      <td>male</td>\n",
       "      <td>25-34 years</td>\n",
       "      <td>16</td>\n",
       "      <td>307100</td>\n",
       "      <td>5.21</td>\n",
       "      <td>2256838858</td>\n",
       "      <td>756</td>\n",
       "      <td>Boomers</td>\n",
       "    </tr>\n",
       "    <tr>\n",
       "      <th>964</th>\n",
       "      <td>Armenia</td>\n",
       "      <td>1990</td>\n",
       "      <td>female</td>\n",
       "      <td>35-54 years</td>\n",
       "      <td>15</td>\n",
       "      <td>358000</td>\n",
       "      <td>4.19</td>\n",
       "      <td>2256838858</td>\n",
       "      <td>756</td>\n",
       "      <td>Silent</td>\n",
       "    </tr>\n",
       "    <tr>\n",
       "      <th>...</th>\n",
       "      <td>...</td>\n",
       "      <td>...</td>\n",
       "      <td>...</td>\n",
       "      <td>...</td>\n",
       "      <td>...</td>\n",
       "      <td>...</td>\n",
       "      <td>...</td>\n",
       "      <td>...</td>\n",
       "      <td>...</td>\n",
       "      <td>...</td>\n",
       "    </tr>\n",
       "    <tr>\n",
       "      <th>1253</th>\n",
       "      <td>Armenia</td>\n",
       "      <td>2016</td>\n",
       "      <td>female</td>\n",
       "      <td>55-74 years</td>\n",
       "      <td>6</td>\n",
       "      <td>308349</td>\n",
       "      <td>1.95</td>\n",
       "      <td>10546135160</td>\n",
       "      <td>3788</td>\n",
       "      <td>Boomers</td>\n",
       "    </tr>\n",
       "    <tr>\n",
       "      <th>1254</th>\n",
       "      <td>Armenia</td>\n",
       "      <td>2016</td>\n",
       "      <td>male</td>\n",
       "      <td>25-34 years</td>\n",
       "      <td>4</td>\n",
       "      <td>255665</td>\n",
       "      <td>1.56</td>\n",
       "      <td>10546135160</td>\n",
       "      <td>3788</td>\n",
       "      <td>Millenials</td>\n",
       "    </tr>\n",
       "    <tr>\n",
       "      <th>1255</th>\n",
       "      <td>Armenia</td>\n",
       "      <td>2016</td>\n",
       "      <td>female</td>\n",
       "      <td>35-54 years</td>\n",
       "      <td>3</td>\n",
       "      <td>408109</td>\n",
       "      <td>0.74</td>\n",
       "      <td>10546135160</td>\n",
       "      <td>3788</td>\n",
       "      <td>Generation X</td>\n",
       "    </tr>\n",
       "    <tr>\n",
       "      <th>1256</th>\n",
       "      <td>Armenia</td>\n",
       "      <td>2016</td>\n",
       "      <td>female</td>\n",
       "      <td>25-34 years</td>\n",
       "      <td>2</td>\n",
       "      <td>277452</td>\n",
       "      <td>0.72</td>\n",
       "      <td>10546135160</td>\n",
       "      <td>3788</td>\n",
       "      <td>Millenials</td>\n",
       "    </tr>\n",
       "    <tr>\n",
       "      <th>1257</th>\n",
       "      <td>Armenia</td>\n",
       "      <td>2016</td>\n",
       "      <td>female</td>\n",
       "      <td>15-24 years</td>\n",
       "      <td>1</td>\n",
       "      <td>195422</td>\n",
       "      <td>0.51</td>\n",
       "      <td>10546135160</td>\n",
       "      <td>3788</td>\n",
       "      <td>Millenials</td>\n",
       "    </tr>\n",
       "  </tbody>\n",
       "</table>\n",
       "<p>298 rows × 10 columns</p>\n",
       "</div>"
      ],
      "text/plain": [
       "      country  year     sex          age  suicides_no  population  \\\n",
       "960   Armenia  1990    male  35-54 years           25      332700   \n",
       "961   Armenia  1990    male    75+ years            2       26900   \n",
       "962   Armenia  1990    male  55-74 years           11      183800   \n",
       "963   Armenia  1990    male  25-34 years           16      307100   \n",
       "964   Armenia  1990  female  35-54 years           15      358000   \n",
       "...       ...   ...     ...          ...          ...         ...   \n",
       "1253  Armenia  2016  female  55-74 years            6      308349   \n",
       "1254  Armenia  2016    male  25-34 years            4      255665   \n",
       "1255  Armenia  2016  female  35-54 years            3      408109   \n",
       "1256  Armenia  2016  female  25-34 years            2      277452   \n",
       "1257  Armenia  2016  female  15-24 years            1      195422   \n",
       "\n",
       "      suicides/100k pop gdp_for_year ($)  gdp_per_capita ($)       generation  \n",
       "960                7.51       2256838858                 756           Silent  \n",
       "961                7.43       2256838858                 756  G.I. Generation  \n",
       "962                5.98       2256838858                 756  G.I. Generation  \n",
       "963                5.21       2256838858                 756          Boomers  \n",
       "964                4.19       2256838858                 756           Silent  \n",
       "...                 ...              ...                 ...              ...  \n",
       "1253               1.95      10546135160                3788          Boomers  \n",
       "1254               1.56      10546135160                3788       Millenials  \n",
       "1255               0.74      10546135160                3788     Generation X  \n",
       "1256               0.72      10546135160                3788       Millenials  \n",
       "1257               0.51      10546135160                3788       Millenials  \n",
       "\n",
       "[298 rows x 10 columns]"
      ]
     },
     "execution_count": 190,
     "metadata": {},
     "output_type": "execute_result"
    }
   ],
   "source": [
    "df_arm_c"
   ]
  },
  {
   "cell_type": "code",
   "execution_count": 206,
   "metadata": {},
   "outputs": [],
   "source": [
    "df_arm_c['gdp_for_year ($)'] = df_arm_c['gdp_for_year ($)'].astype('float', copy=False) # Changing data type \"object\" to 'float'"
   ]
  },
  {
   "cell_type": "code",
   "execution_count": 231,
   "metadata": {},
   "outputs": [
    {
     "data": {
      "image/png": "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\n",
      "text/plain": [
       "<Figure size 1080x432 with 1 Axes>"
      ]
     },
     "metadata": {
      "needs_background": "light"
     },
     "output_type": "display_data"
    }
   ],
   "source": [
    "plt.figure(figsize=(15,6)) \n",
    "df_arm_c.groupby('year')['gdp_for_year ($)'].sum().plot();"
   ]
  },
  {
   "cell_type": "code",
   "execution_count": 234,
   "metadata": {},
   "outputs": [
    {
     "data": {
      "image/png": "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\n",
      "text/plain": [
       "<Figure size 1080x432 with 1 Axes>"
      ]
     },
     "metadata": {
      "needs_background": "light"
     },
     "output_type": "display_data"
    }
   ],
   "source": [
    "plt.figure(figsize=(15,6))\n",
    "df_arm_c.groupby('year')['suicides/100k pop'].sum().plot();"
   ]
  },
  {
   "cell_type": "markdown",
   "metadata": {},
   "source": [
    "As we can see in these two graphs, when suicide rates were the highest, the [GDP](https://www.worldometers.info/gdp/what-is-gdp/#:~:text=Definition,History) was extremely low, and, as GDP increased, the suicide rates decreased. However, we have two GDP variables: gdp_for_year and gdp_per_capita. GDP per capita takes into account the average GDP per person in the economy, so it would be more accurate if we used GDP per capita as it takes into account the inflation and gives more accurate results (note that even GDP per capita is highly misleading if used as an indicator of quality of life, so we can't claim 100% accuracy of actual increased quality of life.)\n"
   ]
  },
  {
   "cell_type": "code",
   "execution_count": 236,
   "metadata": {},
   "outputs": [
    {
     "data": {
      "image/png": "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\n",
      "text/plain": [
       "<Figure size 1080x432 with 1 Axes>"
      ]
     },
     "metadata": {
      "needs_background": "light"
     },
     "output_type": "display_data"
    }
   ],
   "source": [
    "plt.figure(figsize=(15,6)) \n",
    "df_arm_c.groupby('year')['gdp_per_capita ($)'].sum().plot();"
   ]
  },
  {
   "cell_type": "code",
   "execution_count": 237,
   "metadata": {},
   "outputs": [
    {
     "data": {
      "image/png": "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\n",
      "text/plain": [
       "<Figure size 1080x432 with 1 Axes>"
      ]
     },
     "metadata": {
      "needs_background": "light"
     },
     "output_type": "display_data"
    }
   ],
   "source": [
    "plt.figure(figsize=(15,6))\n",
    "df_arm_c.groupby('year')['suicides/100k pop'].sum().plot();"
   ]
  },
  {
   "cell_type": "markdown",
   "metadata": {},
   "source": [
    "### Still, we see the same picture. This means that <b>relative peacefulness and increased quality of life had an impact on the suicide rates.</b>   "
   ]
   {
   "cell_type": "code",
   "execution_count": null,
   "metadata": {},
   "outputs": [],
   "source": []
  },
  {
   "cell_type": "code",
   "execution_count": null,
   "metadata": {},
   "outputs": [],
   "source": []
  },
  {
   "cell_type": "code",
   "execution_count": null,
   "metadata": {},
   "outputs": [],
   "source": []
  },
  {
   "cell_type": "code",
   "execution_count": null,
   "metadata": {},
   "outputs": [],
   "source": []
  },
  {
   "cell_type": "code",
   "execution_count": null,
   "metadata": {},
   "outputs": [],
   "source": []
  },
  {
   "cell_type": "code",
   "execution_count": null,
   "metadata": {},
   "outputs": [],
   "source": []
  },
  {
   "cell_type": "code",
   "execution_count": null,
   "metadata": {},
   "outputs": [],
   "source": []
  },
  {
   "cell_type": "code",
   "execution_count": null,
   "metadata": {},
   "outputs": [],
   "source": []
  },
  {
   "cell_type": "code",
   "execution_count": null,
   "metadata": {},
   "outputs": [],
   "source": []
  },
  {
   "cell_type": "code",
   "execution_count": null,
   "metadata": {},
   "outputs": [],
   "source": []
  },
  {
   "cell_type": "code",
   "execution_count": null,
   "metadata": {},
   "outputs": [],
   "source": []
  },
  {
   "cell_type": "code",
   "execution_count": null,
   "metadata": {},
   "outputs": [],
   "source": []
  }
  },
 ],
 "metadata": {
  "kernelspec": {
   "display_name": "Python 3",
   "language": "python",
   "name": "python3"
  },
  "language_info": {
   "codemirror_mode": {
    "name": "ipython",
    "version": 3
   },
   "file_extension": ".py",
   "mimetype": "text/x-python",
   "name": "python",
   "nbconvert_exporter": "python",
   "pygments_lexer": "ipython3",
   "version": "3.8.5"
  }
 },
 "nbformat": 4,
 "nbformat_minor": 4
}
